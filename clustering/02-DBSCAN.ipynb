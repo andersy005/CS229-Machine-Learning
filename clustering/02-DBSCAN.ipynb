{
 "cells": [
  {
   "cell_type": "markdown",
   "metadata": {},
   "source": [
    "# DBSCAN (Density-based spatial clustering of applications with noise)"
   ]
  },
  {
   "cell_type": "markdown",
   "metadata": {},
   "source": [
    "Given a set of points in some space, DBSCAN groups together points that are closely packed together (points with many **nearby neighbors**), marking as outliers points that lie in low-density regions(whose nearest neighbors are too far away).\n",
    "\n",
    "For the purpose of DBSCAN clustering,points are classified as **core points**, (density-)reachable points and **outliers**, as follows:\n",
    "\n",
    "- A point *p* is a core point if at least minPts points are within distance $\\epsilon$($\\epsilon$ is the maximum radius of the neighborhood from $p$) of it (including $p$). Those points are said to be **directly reachable** from $p$.\n",
    "- A point $q$ is directly reachable from $p$ if point $q$ is within distance $\\epsilon$ from point $p$ and $p$ must be a core point.\n",
    "- A point $q$ is reachable from $p$ if there is a path  $p_1, ..., p_n$ with $p_1=p$ and $p_n=q$, where each $p_{i+1}$ is directly reachable from $p_i$ (all the points on the path must be core points, with possible exception of $q$).\n",
    "- All points not reachable from any other points are outliers.\n",
    "\n",
    "Now if $p$ is a core point, then it forms a cluster together with all points (core or non-core) that are reachable from it. Each cluster contains at least one core point; non-core points can be part of a cluster, but they form its \"edge\", since they cannot be used to reach more points."
   ]
  },
  {
   "cell_type": "markdown",
   "metadata": {},
   "source": [
    "Reachability is not a symmetric relation since, by definition, no point may be reachable from a non-core point, regardless of distance (so a non-core point may be reachable, but nothing can be reached from it). Therefore, a further notion of connectedness is needed to formally define the extent of the clusters found by DBSCAN. Two points p and q are density-connected if there is a point o such that both p and q are reachable from o. Density-connectedness is symmetric.\n",
    "\n",
    "A cluster then satisfies two properties:\n",
    "\n",
    "1. All points within the cluster are mutually density-connected.\n",
    "2. If a point is density-reachable from any point of the cluster, it is part of the cluster as well.\n"
   ]
  },
  {
   "cell_type": "markdown",
   "metadata": {},
   "source": [
    "## Advantages\n",
    "1. It does not require one to specify the number of clusters in the data a priori, as opposed to [k-means](https://github.com/andersy005/machine-learning/blob/master/clustering/01-k-means.ipynb).\n",
    "2. It can find arbitrary shaped clusters. It can even find a cluster completely surrounded (but not connected) to a different cluster. Due to the MinPts parameter, the so-called single-link effect(different clusters being connected by a thin line of points) is reduced \n",
    "3. It has a notion of noise, and is robust to **outliers**.\n",
    "4. It requires just two parameters and is mostly insensitive to the ordering of the points in the dataset. (However, points sitting on the edge of two different clusters might swap cluster membership if the ordering of the points is changed, and the cluster assignment is unique only up to isomorphism.\n",
    "5. It is designed for use with databases that can accelerate region queries\n",
    "6. The parameters minPts and $\\epsilon$ can be set by a domain expert, if the data is well understood.\n"
   ]
  },
  {
   "cell_type": "markdown",
   "metadata": {},
   "source": [
    "## Disadvantages\n",
    "1. It is not entirely deterministic: border points that are reachable from more than one cluster can be part of either cluster, depending on the order the data are processed.\n",
    "\n",
    "2. The quality of DBSCAN depends on the [**distance measure**](https://goo.gl/s92Lts) used. The most common distance metric is **Euclidean distance**. \n",
    "3. It cannot cluster data sets well with large differences in densities, since the $minPts-\\epsilon$ combination cannot then be chosen appropriately for all clusters.\n",
    "4. If the data and scale are not well understood, choosing a meaningful distance threshold $\\epsilon$ can be difficult.\n",
    "\n",
    "\n",
    "\n",
    "Memory consumption for large sample sizes\n",
    "\n",
    "DBSCAN sklearn implementation is by default not memory efficient because it constructs a full pairwise similarity matrix in the case where kd-trees or ball-trees cannot be used (e.g. with sparse matrices). This matrix will consume $n^2$ floats. A couple of mechanisms for getting around this are:\n",
    "\n",
    "- A sparse radius neighborhood graph (where missing entries are presumed to be out of eps) can be precomputed in a memory-efficient way and dbscan can be run over this with `metric='precomputed'`.\n",
    "- The dataset can be compressed, either by removing exact duplicates if these occur in your data, or by using [BIRCH](https://en.wikipedia.org/wiki/BIRCH). Then you only have a relatively small number of representatives for a large number of points. You can then provide a `sample_weight` when fitting DBSCAN.\n",
    "\n"
   ]
  },
  {
   "cell_type": "markdown",
   "metadata": {},
   "source": [
    "## DBSCAN on the handwritten digits data"
   ]
  },
  {
   "cell_type": "code",
   "execution_count": 1,
   "metadata": {},
   "outputs": [],
   "source": [
    "import numpy as np\n",
    "import matplotlib.pyplot as plt\n",
    "%matplotlib inline\n",
    "plt.style.use('seaborn')\n",
    "from sklearn import metrics\n",
    "from sklearn.cluster import DBSCAN\n",
    "from sklearn.datasets import load_digits\n",
    "from sklearn.decomposition import PCA\n",
    "from sklearn.preprocessing import scale\n",
    "np.random.seed(42)"
   ]
  },
  {
   "cell_type": "code",
   "execution_count": 2,
   "metadata": {},
   "outputs": [],
   "source": [
    "# Load the data\n",
    "digits = load_digits()\n",
    "\n",
    "#Standardize the dataset along any axis\n",
    "#Center to the mean and component wise scale to unit variance.\n",
    "data = scale(digits.data)"
   ]
  },
  {
   "cell_type": "code",
   "execution_count": 3,
   "metadata": {},
   "outputs": [
    {
     "name": "stdout",
     "output_type": "stream",
     "text": [
      "1797 64\n"
     ]
    }
   ],
   "source": [
    "n_samples, n_features = data.shape\n",
    "print(n_samples, n_features)"
   ]
  },
  {
   "cell_type": "code",
   "execution_count": 4,
   "metadata": {},
   "outputs": [
    {
     "data": {
      "text/plain": [
       "10"
      ]
     },
     "execution_count": 4,
     "metadata": {},
     "output_type": "execute_result"
    }
   ],
   "source": [
    "sample_size = 300\n",
    "labels = digits.target\n",
    "n_digits = len(np.unique(labels))\n",
    "n_digits"
   ]
  },
  {
   "cell_type": "code",
   "execution_count": 5,
   "metadata": {},
   "outputs": [],
   "source": [
    "# Reduce the data using PCA\n",
    "reduced_data = PCA(n_components=2).fit_transform(data)"
   ]
  },
  {
   "cell_type": "code",
   "execution_count": 6,
   "metadata": {},
   "outputs": [],
   "source": [
    "# Compute DBSCAN\n",
    "db = DBSCAN(eps=0.4, min_samples=14).fit(reduced_data)"
   ]
  },
  {
   "cell_type": "code",
   "execution_count": 7,
   "metadata": {},
   "outputs": [],
   "source": [
    "core_samples_mask = np.zeros_like(db.labels_, dtype=bool)"
   ]
  },
  {
   "cell_type": "code",
   "execution_count": 8,
   "metadata": {},
   "outputs": [],
   "source": [
    "core_samples_mask[db.core_sample_indices_] = True"
   ]
  },
  {
   "cell_type": "code",
   "execution_count": 9,
   "metadata": {},
   "outputs": [],
   "source": [
    "labels_pred = db.labels_"
   ]
  },
  {
   "cell_type": "code",
   "execution_count": 10,
   "metadata": {},
   "outputs": [],
   "source": [
    "# Number of clusters in labels, ignoring noise if present.\n",
    "n_clusters_ = len(set(labels_pred)) - (1 if -1 in labels else 0)\n"
   ]
  },
  {
   "cell_type": "code",
   "execution_count": 11,
   "metadata": {},
   "outputs": [],
   "source": [
    "homo = metrics.homogeneity_score(labels, db.labels_)\n",
    "compl = metrics.completeness_score(labels, db.labels_)\n",
    "v_means = metrics.v_measure_score(labels, db.labels_)\n",
    "ARI = metrics.adjusted_rand_score(labels, db.labels_)\n",
    "AMI = metrics.adjusted_mutual_info_score(labels, db.labels_)\n",
    "silhouette = metrics.silhouette_score(reduced_data, db.labels_)"
   ]
  },
  {
   "cell_type": "code",
   "execution_count": 12,
   "metadata": {},
   "outputs": [
    {
     "name": "stdout",
     "output_type": "stream",
     "text": [
      "Estimated number of clusters: 10\n",
      "_______________________________________________________\n",
      "homo\tcompl\tv-meas\tARI\tAMI\tsilhouette\n",
      "_______________________________________________________\n",
      "0.243\t0.416\t0.307\t0.129\t0.235\t-0.228\n"
     ]
    }
   ],
   "source": [
    "print('Estimated number of clusters: %d' % n_clusters_)\n",
    "print(55 * '_')\n",
    "print('homo\\tcompl\\tv-meas\\tARI\\tAMI\\tsilhouette')\n",
    "print(55 * '_')\n",
    "print('%.3f\\t%.3f\\t%.3f\\t%.3f\\t%.3f\\t%.3f' % (homo, compl, v_means, ARI, AMI,\n",
    "                                              silhouette))"
   ]
  },
  {
   "cell_type": "markdown",
   "metadata": {},
   "source": [
    "### Plotting"
   ]
  },
  {
   "cell_type": "code",
   "execution_count": 13,
   "metadata": {},
   "outputs": [
    {
     "data": {
      "image/png": "[encoded data removed]",
      "text/plain": [
       "<matplotlib.figure.Figure at 0x2b0f2458eb8>"
      ]
     },
     "metadata": {},
     "output_type": "display_data"
    }
   ],
   "source": [
    "# Black removed and is used for noise instead.\n",
    "unique_labels = set(labels_pred)\n",
    "colors = [plt.cm.Spectral(each)\n",
    "          for each in np.linspace(0, 1, len(unique_labels))]\n",
    "for k, col in zip(unique_labels, colors):\n",
    "    if k == -1:\n",
    "        # Black used for noise.\n",
    "        col = [0, 0, 0, 1]\n",
    "\n",
    "    class_member_mask = (labels_pred == k)\n",
    "\n",
    "    xy = reduced_data[class_member_mask & core_samples_mask]\n",
    "    plt.plot(xy[:, 0], xy[:, 1], 'o', markerfacecolor=tuple(col),\n",
    "             markeredgecolor='k', markersize=14)\n",
    "\n",
    "    xy = reduced_data[class_member_mask & ~core_samples_mask]\n",
    "    plt.plot(xy[:, 0], xy[:, 1], 'o', markerfacecolor=tuple(col),\n",
    "             markeredgecolor='k', markersize=6)\n",
    "\n",
    "plt.title('Estimated number of clusters: %d' % n_clusters_)\n",
    "plt.show()"
   ]
  },
  {
   "cell_type": "markdown",
   "metadata": {},
   "source": [
    "## References\n",
    "- [Demo of DBSCAN clustering algorithm](http://scikit-learn.org/stable/auto_examples/cluster/plot_dbscan.html#sphx-glr-auto-examples-cluster-plot-dbscan-py)\n",
    "- [DBSCAN-wikipedia](https://en.wikipedia.org/wiki/DBSCAN)\n",
    "- [sklearn docs- DBSCAN](http://scikit-learn.org/stable/modules/clustering.html#dbscan)"
   ]
  },
  {
   "cell_type": "code",
   "execution_count": 14,
   "metadata": {},
   "outputs": [
    {
     "data": {
      "application/json": {
       "Software versions": [
        {
         "module": "Python",
         "version": "3.6.3 64bit [MSC v.1900 64 bit (AMD64)]"
        },
        {
         "module": "IPython",
         "version": "6.2.1"
        },
        {
         "module": "OS",
         "version": "Windows 10 10.0.16299 SP0"
        },
        {
         "module": "numpy",
         "version": "1.13.3"
        },
        {
         "module": "sklearn",
         "version": "0.19.1"
        },
        {
         "module": "matplotlib",
         "version": "2.1.1"
        }
       ]
      },
      "text/html": [
       "<table><tr><th>Software</th><th>Version</th></tr><tr><td>Python</td><td>3.6.3 64bit [MSC v.1900 64 bit (AMD64)]</td></tr><tr><td>IPython</td><td>6.2.1</td></tr><tr><td>OS</td><td>Windows 10 10.0.16299 SP0</td></tr><tr><td>numpy</td><td>1.13.3</td></tr><tr><td>sklearn</td><td>0.19.1</td></tr><tr><td>matplotlib</td><td>2.1.1</td></tr><tr><td colspan='2'>Wed Jan 17 14:42:47 2018 Central Standard Time</td></tr></table>"
      ],
      "text/latex": [
       "\\begin{tabular}{|l|l|}\\hline\n",
       "{\\bf Software} & {\\bf Version} \\\\ \\hline\\hline\n",
       "Python & 3.6.3 64bit [MSC v.1900 64 bit (AMD64)] \\\\ \\hline\n",
       "IPython & 6.2.1 \\\\ \\hline\n",
       "OS & Windows 10 10.0.16299 SP0 \\\\ \\hline\n",
       "numpy & 1.13.3 \\\\ \\hline\n",
       "sklearn & 0.19.1 \\\\ \\hline\n",
       "matplotlib & 2.1.1 \\\\ \\hline\n",
       "\\hline \\multicolumn{2}{|l|}{Wed Jan 17 14:42:47 2018 Central Standard Time} \\\\ \\hline\n",
       "\\end{tabular}\n"
      ],
      "text/plain": [
       "Software versions\n",
       "Python 3.6.3 64bit [MSC v.1900 64 bit (AMD64)]\n",
       "IPython 6.2.1\n",
       "OS Windows 10 10.0.16299 SP0\n",
       "numpy 1.13.3\n",
       "sklearn 0.19.1\n",
       "matplotlib 2.1.1\n",
       "Wed Jan 17 14:42:47 2018 Central Standard Time"
      ]
     },
     "execution_count": 14,
     "metadata": {},
     "output_type": "execute_result"
    }
   ],
   "source": [
    "%load_ext version_information\n",
    "%version_information numpy, sklearn, matplotlib"
   ]
  }
 ],
 "metadata": {
  "kernelspec": {
   "display_name": "Python 3",
   "language": "python",
   "name": "python3"
  },
  "language_info": {
   "codemirror_mode": {
    "name": "ipython",
    "version": 3
   },
   "file_extension": ".py",
   "mimetype": "text/x-python",
   "name": "python",
   "nbconvert_exporter": "python",
   "pygments_lexer": "ipython3",
   "version": "3.6.3"
  },
  "toc": {
   "nav_menu": {},
   "number_sections": true,
   "sideBar": true,
   "skip_h1_title": false,
   "toc_cell": false,
   "toc_position": {},
   "toc_section_display": "block",
   "toc_window_display": true
  }
 },
 "nbformat": 4,
 "nbformat_minor": 2
}
